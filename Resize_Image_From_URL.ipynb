{
  "nbformat": 4,
  "nbformat_minor": 0,
  "metadata": {
    "colab": {
      "provenance": []
    },
    "kernelspec": {
      "name": "python3",
      "display_name": "Python 3"
    },
    "language_info": {
      "name": "python"
    }
  },
  "cells": [
    {
      "cell_type": "code",
      "source": [
        "from PIL import Image\n",
        "import requests\n",
        "from io import BytesIO\n",
        "from PIL import UnidentifiedImageError\n",
        "from IPython.display import display\n",
        "import datetime\n",
        "\n",
        "def resize_image(url, target_width, target_height):\n",
        "    try:\n",
        "        response = requests.get(url)\n",
        "        img = Image.open(BytesIO(response.content))\n",
        "\n",
        "        width_ratio = target_width / img.width\n",
        "        height_ratio = target_height / img.height\n",
        "        min_ratio = min(width_ratio, height_ratio)\n",
        "        new_width = int(img.width * min_ratio)\n",
        "        new_height = int(img.height * min_ratio)\n",
        "        resized_img = img.resize((new_width, new_height))\n",
        "        return resized_img\n",
        "    except UnidentifiedImageError:\n",
        "        print(\"Failed to identify image file. Please make sure the URL is correct and the file is an image.\")\n",
        "        return None\n",
        "\n",
        "image_url = input(\"Enter the image URL: \")\n",
        "target_width = int(input(\"Enter the target width (px): \"))\n",
        "target_height = int(input(\"Enter the target height (px): \"))\n",
        "\n",
        "resized_image = resize_image(image_url, target_width, target_height)\n",
        "\n",
        "current_time = datetime.datetime.now().strftime(\"%Y%m%d%H%M%S\")\n",
        "filename = f\"image_{current_time}.jpg\"\n",
        "\n",
        "if resized_image:\n",
        "    resized_image.save(filename)\n",
        "    print(f\"Resized image saved as {filename}\")\n",
        "\n",
        "if resized_image:\n",
        "    display(resized_image)\n"
      ],
      "metadata": {
        "colab": {
          "base_uri": "https://localhost:8080/",
          "height": 186
        },
        "id": "hQN7hoKZVe97",
        "outputId": "b6c7a020-0cb8-4b9e-9e0b-17102be05942"
      },
      "execution_count": 19,
      "outputs": [
        {
          "output_type": "stream",
          "name": "stdout",
          "text": [
            "Enter the image URL: https://avatars.githubusercontent.com/u/57394564?v=4\n",
            "Enter the target width (px): 100\n",
            "Enter the target height (px): 100\n",
            "Resized image saved as image_20240504160222.jpg\n"
          ]
        },
        {
          "output_type": "display_data",
          "data": {
            "text/plain": [
              "<PIL.Image.Image image mode=RGB size=100x100>"
            ],
            "image/png": "[encoded data removed]"
          },
          "metadata": {}
        }
      ]
    }
  ]
}